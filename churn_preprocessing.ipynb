{
 "cells": [
  {
   "metadata": {},
   "cell_type": "markdown",
   "source": [
    "# Profit-driven pre-processing in B2B customer churn modeling using fairness techniques\n",
    "This notebook is associated with the paper \"Profit-driven pre-processing in B2B customer churn modeling using fairness techniques\" by Shimanto Rahman, Bram Janssens & Matthias Bogaert, published in the Journal of Business Research. The pre-processing techniques—resampling, reweighing, and massaging—are applied to an open source customer churn dataset and evaluated with the EMPB and AUEPC metrics. Note that this open-source dataset is synthetic and does not contain the inverse churn-CLV relationship that is present in the real-world datasets used in the paper. Therefore, the results are not representative of the results in the paper, but are meant to demonstrate the implementation of the techniques."
   ],
   "id": "b5504abb02ec499e"
  },
  {
   "cell_type": "code",
   "id": "initial_id",
   "metadata": {
    "collapsed": true,
    "ExecuteTime": {
     "end_time": "2024-12-11T20:08:31.782463Z",
     "start_time": "2024-12-11T20:08:19.404302Z"
    }
   },
   "source": [
    "import matplotlib.pyplot as plt\n",
    "import pandas as pd\n",
    "from category_encoders import TargetEncoder\n",
    "from empulse.metrics.churn import empb_score, auepc_score\n",
    "from empulse.models import BiasRelabelingClassifier, BiasResamplingClassifier, BiasReweighingClassifier\n",
    "from sklearn.compose import ColumnTransformer\n",
    "from sklearn.ensemble import RandomForestClassifier\n",
    "from sklearn.impute import SimpleImputer\n",
    "from sklearn.model_selection import StratifiedShuffleSplit\n",
    "from sklearn.pipeline import Pipeline\n",
    "from sklearn.preprocessing import StandardScaler"
   ],
   "outputs": [],
   "execution_count": 1
  },
  {
   "metadata": {},
   "cell_type": "markdown",
   "source": "# 1. Load the data",
   "id": "5844386828f31d87"
  },
  {
   "metadata": {
    "ExecuteTime": {
     "end_time": "2024-12-11T20:08:36.073461Z",
     "start_time": "2024-12-11T20:08:31.793883Z"
    }
   },
   "cell_type": "code",
   "source": [
    "data = pd.read_excel('data/Telco_customer_churn.xlsx', 'Telco_Churn')\n",
    "data = data.drop(\n",
    "    columns=['Count', 'Country', 'State', 'Zip Code', 'Lat Long', 'Latitude', 'Longitude', 'Churn Reason',\n",
    "             'Churn Score', 'Churn Label']\n",
    ")\n",
    "\n",
    "# normalize column names\n",
    "data.columns = data.columns.str.lower().str.replace(' ', '_')\n",
    "data.columns = data.columns.str.replace('customerid', 'id').str.replace('cltv', 'clv')\n",
    "\n",
    "# convert data types\n",
    "data['total_charges'] = pd.to_numeric(data['total_charges'], errors='coerce')\n",
    "data['total_charges'] = data['total_charges'].fillna(0)\n",
    "object_columns = data.select_dtypes(include='object').columns\n",
    "data[object_columns] = data[object_columns].astype('category')\n",
    "data = data.set_index('id')\n",
    "\n",
    "X = data.drop(columns=['churn_value', 'clv'])\n",
    "y = data['churn_value']\n",
    "clv = data['clv']\n"
   ],
   "id": "4c716b96c427b9a1",
   "outputs": [],
   "execution_count": 2
  },
  {
   "metadata": {},
   "cell_type": "markdown",
   "source": "# 2. Split the data stratified by churn and clv",
   "id": "b9a43f45fde3561a"
  },
  {
   "metadata": {
    "ExecuteTime": {
     "end_time": "2024-12-11T20:08:37.375989Z",
     "start_time": "2024-12-11T20:08:37.334108Z"
    }
   },
   "cell_type": "code",
   "source": [
    "# Create a stratification key by combining 'churn_value' and 'clv' into a single column\n",
    "stratify_key = pd.qcut(clv, q=4, labels=False, duplicates='drop') * 10 + y\n",
    "\n",
    "# Initialize the StratifiedShuffleSplit\n",
    "split = StratifiedShuffleSplit(n_splits=1, test_size=0.2, random_state=42)\n",
    "\n",
    "# Split the data\n",
    "for train_index, test_index in split.split(X, stratify_key):\n",
    "    X_train, X_test = X.iloc[train_index], X.iloc[test_index]\n",
    "    y_train, y_test = y.iloc[train_index], y.iloc[test_index]\n",
    "    clv_train, clv_test = clv.iloc[train_index], clv.iloc[test_index]\n",
    "\n",
    "# define high-clv and low-clv customers based on the 66th percentile\n",
    "high_clv_train = clv_train > clv_train.quantile(0.66)\n",
    "high_clv_test = clv_test > clv_train.quantile(0.66)"
   ],
   "id": "5fac1989d08ed066",
   "outputs": [],
   "execution_count": 3
  },
  {
   "metadata": {},
   "cell_type": "markdown",
   "source": "# 3. Train the models",
   "id": "fdbec61028e48a7a"
  },
  {
   "metadata": {
    "ExecuteTime": {
     "end_time": "2024-12-11T20:08:39.017661Z",
     "start_time": "2024-12-11T20:08:39.001321Z"
    }
   },
   "cell_type": "code",
   "source": [
    "# Identify categorical and numeric columns\n",
    "categorical_cols = X.select_dtypes(include=['category', 'object']).columns\n",
    "numeric_cols = X.select_dtypes(include=['number']).columns\n",
    "\n",
    "# Define the transformers for the pipeline\n",
    "preprocessor = ColumnTransformer(\n",
    "    transformers=[\n",
    "        ('num', Pipeline(\n",
    "            steps=[\n",
    "                ('imputer', SimpleImputer(strategy='median')),\n",
    "                ('scaler', StandardScaler())\n",
    "            ]\n",
    "        ), numeric_cols),\n",
    "        ('cat', Pipeline(\n",
    "            steps=[\n",
    "                ('target_encoder', TargetEncoder())\n",
    "            ]\n",
    "        ), categorical_cols)\n",
    "    ]\n",
    ")\n",
    "\n",
    "# Define the pipelines\n",
    "baseline_pipeline = Pipeline(\n",
    "    steps=[\n",
    "        ('preprocessor', preprocessor),\n",
    "        ('classifier', RandomForestClassifier(n_estimators=500, random_state=42))\n",
    "    ]\n",
    ")\n",
    "\n",
    "resampling_pipeline = Pipeline(\n",
    "    steps=[\n",
    "        ('preprocessor', preprocessor),\n",
    "        ('classifier', BiasResamplingClassifier(\n",
    "            estimator=RandomForestClassifier(n_estimators=500, random_state=42),\n",
    "        ))\n",
    "    ]\n",
    ")\n",
    "\n",
    "massaging_pipeline = Pipeline(\n",
    "    steps=[\n",
    "        ('preprocessor', preprocessor),\n",
    "        ('classifier', BiasRelabelingClassifier(\n",
    "            estimator=RandomForestClassifier(n_estimators=500, random_state=42),\n",
    "        ))\n",
    "    ]\n",
    ")\n",
    "\n",
    "reweighing_pipeline = Pipeline(\n",
    "    steps=[\n",
    "        ('preprocessor', preprocessor),\n",
    "        ('classifier', BiasReweighingClassifier(\n",
    "            estimator=RandomForestClassifier(n_estimators=500, random_state=42),\n",
    "        ))\n",
    "    ]\n",
    ")"
   ],
   "id": "6913b5d17d847fe7",
   "outputs": [],
   "execution_count": 4
  },
  {
   "metadata": {
    "ExecuteTime": {
     "end_time": "2024-12-11T20:09:18.654089Z",
     "start_time": "2024-12-11T20:08:40.020656Z"
    }
   },
   "cell_type": "code",
   "source": [
    "baseline_pipeline.fit(X_train, y_train)\n",
    "resampling_pipeline.fit(X_train, y_train, classifier__protected_attr=high_clv_train)\n",
    "massaging_pipeline.fit(X_train, y_train, classifier__protected_attr=high_clv_train)\n",
    "reweighing_pipeline.fit(X_train, y_train, classifier__protected_attr=high_clv_train)"
   ],
   "id": "3dd5e6589a37e23a",
   "outputs": [
    {
     "data": {
      "text/plain": [
       "Pipeline(steps=[('preprocessor',\n",
       "                 ColumnTransformer(transformers=[('num',\n",
       "                                                  Pipeline(steps=[('imputer',\n",
       "                                                                   SimpleImputer(strategy='median')),\n",
       "                                                                  ('scaler',\n",
       "                                                                   StandardScaler())]),\n",
       "                                                  Index(['tenure_months', 'monthly_charges', 'total_charges'], dtype='object')),\n",
       "                                                 ('cat',\n",
       "                                                  Pipeline(steps=[('target_encoder',\n",
       "                                                                   TargetEncoder())]),\n",
       "                                                  Index(['city', 'gender', 'senior_citizen', 'partner', 'dependents',\n",
       "       'phone_service', 'multiple_lines', 'internet_service',\n",
       "       'online_security', 'online_backup', 'device_protection', 'tech_support',\n",
       "       'streaming_tv', 'streaming_movies', 'contract', 'paperless_billing',\n",
       "       'payment_method'],\n",
       "      dtype='object'))])),\n",
       "                ('classifier',\n",
       "                 BiasReweighingClassifier(estimator=RandomForestClassifier(n_estimators=500,\n",
       "                                                                           random_state=42)))])"
      ],
      "text/html": [
       "<style>#sk-container-id-1 {color: black;}#sk-container-id-1 pre{padding: 0;}#sk-container-id-1 div.sk-toggleable {background-color: white;}#sk-container-id-1 label.sk-toggleable__label {cursor: pointer;display: block;width: 100%;margin-bottom: 0;padding: 0.3em;box-sizing: border-box;text-align: center;}#sk-container-id-1 label.sk-toggleable__label-arrow:before {content: \"▸\";float: left;margin-right: 0.25em;color: #696969;}#sk-container-id-1 label.sk-toggleable__label-arrow:hover:before {color: black;}#sk-container-id-1 div.sk-estimator:hover label.sk-toggleable__label-arrow:before {color: black;}#sk-container-id-1 div.sk-toggleable__content {max-height: 0;max-width: 0;overflow: hidden;text-align: left;background-color: #f0f8ff;}#sk-container-id-1 div.sk-toggleable__content pre {margin: 0.2em;color: black;border-radius: 0.25em;background-color: #f0f8ff;}#sk-container-id-1 input.sk-toggleable__control:checked~div.sk-toggleable__content {max-height: 200px;max-width: 100%;overflow: auto;}#sk-container-id-1 input.sk-toggleable__control:checked~label.sk-toggleable__label-arrow:before {content: \"▾\";}#sk-container-id-1 div.sk-estimator input.sk-toggleable__control:checked~label.sk-toggleable__label {background-color: #d4ebff;}#sk-container-id-1 div.sk-label input.sk-toggleable__control:checked~label.sk-toggleable__label {background-color: #d4ebff;}#sk-container-id-1 input.sk-hidden--visually {border: 0;clip: rect(1px 1px 1px 1px);clip: rect(1px, 1px, 1px, 1px);height: 1px;margin: -1px;overflow: hidden;padding: 0;position: absolute;width: 1px;}#sk-container-id-1 div.sk-estimator {font-family: monospace;background-color: #f0f8ff;border: 1px dotted black;border-radius: 0.25em;box-sizing: border-box;margin-bottom: 0.5em;}#sk-container-id-1 div.sk-estimator:hover {background-color: #d4ebff;}#sk-container-id-1 div.sk-parallel-item::after {content: \"\";width: 100%;border-bottom: 1px solid gray;flex-grow: 1;}#sk-container-id-1 div.sk-label:hover label.sk-toggleable__label {background-color: #d4ebff;}#sk-container-id-1 div.sk-serial::before {content: \"\";position: absolute;border-left: 1px solid gray;box-sizing: border-box;top: 0;bottom: 0;left: 50%;z-index: 0;}#sk-container-id-1 div.sk-serial {display: flex;flex-direction: column;align-items: center;background-color: white;padding-right: 0.2em;padding-left: 0.2em;position: relative;}#sk-container-id-1 div.sk-item {position: relative;z-index: 1;}#sk-container-id-1 div.sk-parallel {display: flex;align-items: stretch;justify-content: center;background-color: white;position: relative;}#sk-container-id-1 div.sk-item::before, #sk-container-id-1 div.sk-parallel-item::before {content: \"\";position: absolute;border-left: 1px solid gray;box-sizing: border-box;top: 0;bottom: 0;left: 50%;z-index: -1;}#sk-container-id-1 div.sk-parallel-item {display: flex;flex-direction: column;z-index: 1;position: relative;background-color: white;}#sk-container-id-1 div.sk-parallel-item:first-child::after {align-self: flex-end;width: 50%;}#sk-container-id-1 div.sk-parallel-item:last-child::after {align-self: flex-start;width: 50%;}#sk-container-id-1 div.sk-parallel-item:only-child::after {width: 0;}#sk-container-id-1 div.sk-dashed-wrapped {border: 1px dashed gray;margin: 0 0.4em 0.5em 0.4em;box-sizing: border-box;padding-bottom: 0.4em;background-color: white;}#sk-container-id-1 div.sk-label label {font-family: monospace;font-weight: bold;display: inline-block;line-height: 1.2em;}#sk-container-id-1 div.sk-label-container {text-align: center;}#sk-container-id-1 div.sk-container {/* jupyter's `normalize.less` sets `[hidden] { display: none; }` but bootstrap.min.css set `[hidden] { display: none !important; }` so we also need the `!important` here to be able to override the default hidden behavior on the sphinx rendered scikit-learn.org. See: https://github.com/scikit-learn/scikit-learn/issues/21755 */display: inline-block !important;position: relative;}#sk-container-id-1 div.sk-text-repr-fallback {display: none;}</style><div id=\"sk-container-id-1\" class=\"sk-top-container\"><div class=\"sk-text-repr-fallback\"><pre>Pipeline(steps=[(&#x27;preprocessor&#x27;,\n",
       "                 ColumnTransformer(transformers=[(&#x27;num&#x27;,\n",
       "                                                  Pipeline(steps=[(&#x27;imputer&#x27;,\n",
       "                                                                   SimpleImputer(strategy=&#x27;median&#x27;)),\n",
       "                                                                  (&#x27;scaler&#x27;,\n",
       "                                                                   StandardScaler())]),\n",
       "                                                  Index([&#x27;tenure_months&#x27;, &#x27;monthly_charges&#x27;, &#x27;total_charges&#x27;], dtype=&#x27;object&#x27;)),\n",
       "                                                 (&#x27;cat&#x27;,\n",
       "                                                  Pipeline(steps=[(&#x27;target_encoder&#x27;,\n",
       "                                                                   TargetEncoder())]),\n",
       "                                                  Index([&#x27;city&#x27;, &#x27;gender&#x27;, &#x27;senior_citizen&#x27;, &#x27;partner&#x27;, &#x27;dependents&#x27;,\n",
       "       &#x27;phone_service&#x27;, &#x27;multiple_lines&#x27;, &#x27;internet_service&#x27;,\n",
       "       &#x27;online_security&#x27;, &#x27;online_backup&#x27;, &#x27;device_protection&#x27;, &#x27;tech_support&#x27;,\n",
       "       &#x27;streaming_tv&#x27;, &#x27;streaming_movies&#x27;, &#x27;contract&#x27;, &#x27;paperless_billing&#x27;,\n",
       "       &#x27;payment_method&#x27;],\n",
       "      dtype=&#x27;object&#x27;))])),\n",
       "                (&#x27;classifier&#x27;,\n",
       "                 BiasReweighingClassifier(estimator=RandomForestClassifier(n_estimators=500,\n",
       "                                                                           random_state=42)))])</pre><b>In a Jupyter environment, please rerun this cell to show the HTML representation or trust the notebook. <br />On GitHub, the HTML representation is unable to render, please try loading this page with nbviewer.org.</b></div><div class=\"sk-container\" hidden><div class=\"sk-item sk-dashed-wrapped\"><div class=\"sk-label-container\"><div class=\"sk-label sk-toggleable\"><input class=\"sk-toggleable__control sk-hidden--visually\" id=\"sk-estimator-id-1\" type=\"checkbox\" ><label for=\"sk-estimator-id-1\" class=\"sk-toggleable__label sk-toggleable__label-arrow\">Pipeline</label><div class=\"sk-toggleable__content\"><pre>Pipeline(steps=[(&#x27;preprocessor&#x27;,\n",
       "                 ColumnTransformer(transformers=[(&#x27;num&#x27;,\n",
       "                                                  Pipeline(steps=[(&#x27;imputer&#x27;,\n",
       "                                                                   SimpleImputer(strategy=&#x27;median&#x27;)),\n",
       "                                                                  (&#x27;scaler&#x27;,\n",
       "                                                                   StandardScaler())]),\n",
       "                                                  Index([&#x27;tenure_months&#x27;, &#x27;monthly_charges&#x27;, &#x27;total_charges&#x27;], dtype=&#x27;object&#x27;)),\n",
       "                                                 (&#x27;cat&#x27;,\n",
       "                                                  Pipeline(steps=[(&#x27;target_encoder&#x27;,\n",
       "                                                                   TargetEncoder())]),\n",
       "                                                  Index([&#x27;city&#x27;, &#x27;gender&#x27;, &#x27;senior_citizen&#x27;, &#x27;partner&#x27;, &#x27;dependents&#x27;,\n",
       "       &#x27;phone_service&#x27;, &#x27;multiple_lines&#x27;, &#x27;internet_service&#x27;,\n",
       "       &#x27;online_security&#x27;, &#x27;online_backup&#x27;, &#x27;device_protection&#x27;, &#x27;tech_support&#x27;,\n",
       "       &#x27;streaming_tv&#x27;, &#x27;streaming_movies&#x27;, &#x27;contract&#x27;, &#x27;paperless_billing&#x27;,\n",
       "       &#x27;payment_method&#x27;],\n",
       "      dtype=&#x27;object&#x27;))])),\n",
       "                (&#x27;classifier&#x27;,\n",
       "                 BiasReweighingClassifier(estimator=RandomForestClassifier(n_estimators=500,\n",
       "                                                                           random_state=42)))])</pre></div></div></div><div class=\"sk-serial\"><div class=\"sk-item sk-dashed-wrapped\"><div class=\"sk-label-container\"><div class=\"sk-label sk-toggleable\"><input class=\"sk-toggleable__control sk-hidden--visually\" id=\"sk-estimator-id-2\" type=\"checkbox\" ><label for=\"sk-estimator-id-2\" class=\"sk-toggleable__label sk-toggleable__label-arrow\">preprocessor: ColumnTransformer</label><div class=\"sk-toggleable__content\"><pre>ColumnTransformer(transformers=[(&#x27;num&#x27;,\n",
       "                                 Pipeline(steps=[(&#x27;imputer&#x27;,\n",
       "                                                  SimpleImputer(strategy=&#x27;median&#x27;)),\n",
       "                                                 (&#x27;scaler&#x27;, StandardScaler())]),\n",
       "                                 Index([&#x27;tenure_months&#x27;, &#x27;monthly_charges&#x27;, &#x27;total_charges&#x27;], dtype=&#x27;object&#x27;)),\n",
       "                                (&#x27;cat&#x27;,\n",
       "                                 Pipeline(steps=[(&#x27;target_encoder&#x27;,\n",
       "                                                  TargetEncoder())]),\n",
       "                                 Index([&#x27;city&#x27;, &#x27;gender&#x27;, &#x27;senior_citizen&#x27;, &#x27;partner&#x27;, &#x27;dependents&#x27;,\n",
       "       &#x27;phone_service&#x27;, &#x27;multiple_lines&#x27;, &#x27;internet_service&#x27;,\n",
       "       &#x27;online_security&#x27;, &#x27;online_backup&#x27;, &#x27;device_protection&#x27;, &#x27;tech_support&#x27;,\n",
       "       &#x27;streaming_tv&#x27;, &#x27;streaming_movies&#x27;, &#x27;contract&#x27;, &#x27;paperless_billing&#x27;,\n",
       "       &#x27;payment_method&#x27;],\n",
       "      dtype=&#x27;object&#x27;))])</pre></div></div></div><div class=\"sk-parallel\"><div class=\"sk-parallel-item\"><div class=\"sk-item\"><div class=\"sk-label-container\"><div class=\"sk-label sk-toggleable\"><input class=\"sk-toggleable__control sk-hidden--visually\" id=\"sk-estimator-id-3\" type=\"checkbox\" ><label for=\"sk-estimator-id-3\" class=\"sk-toggleable__label sk-toggleable__label-arrow\">num</label><div class=\"sk-toggleable__content\"><pre>Index([&#x27;tenure_months&#x27;, &#x27;monthly_charges&#x27;, &#x27;total_charges&#x27;], dtype=&#x27;object&#x27;)</pre></div></div></div><div class=\"sk-serial\"><div class=\"sk-item\"><div class=\"sk-serial\"><div class=\"sk-item\"><div class=\"sk-estimator sk-toggleable\"><input class=\"sk-toggleable__control sk-hidden--visually\" id=\"sk-estimator-id-4\" type=\"checkbox\" ><label for=\"sk-estimator-id-4\" class=\"sk-toggleable__label sk-toggleable__label-arrow\">SimpleImputer</label><div class=\"sk-toggleable__content\"><pre>SimpleImputer(strategy=&#x27;median&#x27;)</pre></div></div></div><div class=\"sk-item\"><div class=\"sk-estimator sk-toggleable\"><input class=\"sk-toggleable__control sk-hidden--visually\" id=\"sk-estimator-id-5\" type=\"checkbox\" ><label for=\"sk-estimator-id-5\" class=\"sk-toggleable__label sk-toggleable__label-arrow\">StandardScaler</label><div class=\"sk-toggleable__content\"><pre>StandardScaler()</pre></div></div></div></div></div></div></div></div><div class=\"sk-parallel-item\"><div class=\"sk-item\"><div class=\"sk-label-container\"><div class=\"sk-label sk-toggleable\"><input class=\"sk-toggleable__control sk-hidden--visually\" id=\"sk-estimator-id-6\" type=\"checkbox\" ><label for=\"sk-estimator-id-6\" class=\"sk-toggleable__label sk-toggleable__label-arrow\">cat</label><div class=\"sk-toggleable__content\"><pre>Index([&#x27;city&#x27;, &#x27;gender&#x27;, &#x27;senior_citizen&#x27;, &#x27;partner&#x27;, &#x27;dependents&#x27;,\n",
       "       &#x27;phone_service&#x27;, &#x27;multiple_lines&#x27;, &#x27;internet_service&#x27;,\n",
       "       &#x27;online_security&#x27;, &#x27;online_backup&#x27;, &#x27;device_protection&#x27;, &#x27;tech_support&#x27;,\n",
       "       &#x27;streaming_tv&#x27;, &#x27;streaming_movies&#x27;, &#x27;contract&#x27;, &#x27;paperless_billing&#x27;,\n",
       "       &#x27;payment_method&#x27;],\n",
       "      dtype=&#x27;object&#x27;)</pre></div></div></div><div class=\"sk-serial\"><div class=\"sk-item\"><div class=\"sk-serial\"><div class=\"sk-item\"><div class=\"sk-estimator sk-toggleable\"><input class=\"sk-toggleable__control sk-hidden--visually\" id=\"sk-estimator-id-7\" type=\"checkbox\" ><label for=\"sk-estimator-id-7\" class=\"sk-toggleable__label sk-toggleable__label-arrow\">TargetEncoder</label><div class=\"sk-toggleable__content\"><pre>TargetEncoder()</pre></div></div></div></div></div></div></div></div></div></div><div class=\"sk-item sk-dashed-wrapped\"><div class=\"sk-label-container\"><div class=\"sk-label sk-toggleable\"><input class=\"sk-toggleable__control sk-hidden--visually\" id=\"sk-estimator-id-8\" type=\"checkbox\" ><label for=\"sk-estimator-id-8\" class=\"sk-toggleable__label sk-toggleable__label-arrow\">classifier: BiasReweighingClassifier</label><div class=\"sk-toggleable__content\"><pre>BiasReweighingClassifier(estimator=RandomForestClassifier(n_estimators=500,\n",
       "                                                          random_state=42))</pre></div></div></div><div class=\"sk-parallel\"><div class=\"sk-parallel-item\"><div class=\"sk-item\"><div class=\"sk-label-container\"><div class=\"sk-label sk-toggleable\"><input class=\"sk-toggleable__control sk-hidden--visually\" id=\"sk-estimator-id-9\" type=\"checkbox\" ><label for=\"sk-estimator-id-9\" class=\"sk-toggleable__label sk-toggleable__label-arrow\">estimator: RandomForestClassifier</label><div class=\"sk-toggleable__content\"><pre>RandomForestClassifier(n_estimators=500, random_state=42)</pre></div></div></div><div class=\"sk-serial\"><div class=\"sk-item\"><div class=\"sk-estimator sk-toggleable\"><input class=\"sk-toggleable__control sk-hidden--visually\" id=\"sk-estimator-id-10\" type=\"checkbox\" ><label for=\"sk-estimator-id-10\" class=\"sk-toggleable__label sk-toggleable__label-arrow\">RandomForestClassifier</label><div class=\"sk-toggleable__content\"><pre>RandomForestClassifier(n_estimators=500, random_state=42)</pre></div></div></div></div></div></div></div></div></div></div></div></div>"
      ]
     },
     "execution_count": 5,
     "metadata": {},
     "output_type": "execute_result"
    }
   ],
   "execution_count": 5
  },
  {
   "metadata": {},
   "cell_type": "markdown",
   "source": [
    "# 4. Evaluate the models\n",
    "## 4.1 EMPB"
   ],
   "id": "45d6918304fb3d6d"
  },
  {
   "metadata": {
    "ExecuteTime": {
     "end_time": "2024-12-11T20:09:25.247183Z",
     "start_time": "2024-12-11T20:09:23.744262Z"
    }
   },
   "cell_type": "code",
   "source": [
    "y_pred_baseline = baseline_pipeline.predict_proba(X_test)[:, 1]\n",
    "y_pred_resampling = resampling_pipeline.predict_proba(X_test)[:, 1]\n",
    "y_pred_massaging = massaging_pipeline.predict_proba(X_test)[:, 1]\n",
    "y_pred_reweighing = reweighing_pipeline.predict_proba(X_test)[:, 1]\n",
    "\n",
    "# Calculate the EMPB scores\n",
    "empb_baseline = empb_score(y_test, y_pred_baseline, clv=clv_test)\n",
    "empb_resampling = empb_score(y_test, y_pred_resampling, clv=clv_test)\n",
    "empb_massaging = empb_score(y_test, y_pred_massaging, clv=clv_test)\n",
    "empb_reweighing = empb_score(y_test, y_pred_reweighing, clv=clv_test)\n",
    "\n",
    "# plot the EMPB scores\n",
    "plt.bar(\n",
    "    ['Baseline', 'Resampling', 'Massaging', 'Reweighing'],\n",
    "    [empb_baseline, empb_resampling, empb_massaging, empb_reweighing]\n",
    ")\n",
    "plt.ylabel('EMPB')\n",
    "plt.show()"
   ],
   "id": "bf8a5b5a989ae792",
   "outputs": [
    {
     "data": {
      "text/plain": [
       "<Figure size 640x480 with 1 Axes>"
      ],
      "image/png": "[encoded data removed]"
     },
     "metadata": {},
     "output_type": "display_data"
    }
   ],
   "execution_count": 6
  },
  {
   "metadata": {},
   "cell_type": "markdown",
   "source": "## 4.2 AUEPC",
   "id": "80e572d0d469b55d"
  },
  {
   "metadata": {
    "ExecuteTime": {
     "end_time": "2024-12-11T20:09:36.247475Z",
     "start_time": "2024-12-11T20:09:36.057956Z"
    }
   },
   "cell_type": "code",
   "source": [
    "# Calculate the AUEPC scores\n",
    "auepc_baseline = auepc_score(y_test, y_pred_baseline, clv=clv_test)\n",
    "auepc_resampling = auepc_score(y_test, y_pred_resampling, clv=clv_test)\n",
    "auepc_massaging = auepc_score(y_test, y_pred_massaging, clv=clv_test)\n",
    "auepc_reweighing = auepc_score(y_test, y_pred_reweighing, clv=clv_test)\n",
    "\n",
    "# Plot the AUEPC scores\n",
    "plt.bar(\n",
    "    ['Baseline', 'Resampling', 'Massaging', 'Reweighing'],\n",
    "    [auepc_baseline, auepc_resampling, auepc_massaging, auepc_reweighing]\n",
    ")\n",
    "plt.ylabel('AUEPC')\n",
    "\n",
    "plt.show()"
   ],
   "id": "9c571d6721327d6c",
   "outputs": [
    {
     "data": {
      "text/plain": [
       "<Figure size 640x480 with 1 Axes>"
      ],
      "image/png": "[encoded data removed]"
     },
     "metadata": {},
     "output_type": "display_data"
    }
   ],
   "execution_count": 7
  },
  {
   "metadata": {},
   "cell_type": "code",
   "outputs": [],
   "execution_count": null,
   "source": "",
   "id": "2b2e34035ea65cf2"
  }
 ],
 "metadata": {
  "kernelspec": {
   "display_name": "Python 3",
   "language": "python",
   "name": "python3"
  },
  "language_info": {
   "codemirror_mode": {
    "name": "ipython",
    "version": 2
   },
   "file_extension": ".py",
   "mimetype": "text/x-python",
   "name": "python",
   "nbconvert_exporter": "python",
   "pygments_lexer": "ipython2",
   "version": "2.7.6"
  }
 },
 "nbformat": 4,
 "nbformat_minor": 5
}
